{
 "cells": [
  {
   "cell_type": "code",
   "execution_count": 1,
   "metadata": {},
   "outputs": [],
   "source": [
    "# import necessary libraries\n",
    "from urllib.request import urlopen\n",
    "from bs4 import BeautifulSoup\n",
    "import pandas as pd"
   ]
  },
  {
   "cell_type": "code",
   "execution_count": 2,
   "metadata": {},
   "outputs": [
    {
     "data": {
      "text/plain": [
       "bs4.BeautifulSoup"
      ]
     },
     "execution_count": 2,
     "metadata": {},
     "output_type": "execute_result"
    }
   ],
   "source": [
    "# Get HTML content of the URL\n",
    "url = \"https://hackr.io/tutorials/learn-artificial-intelligence-ai\"\n",
    "html = urlopen(url)\n",
    "soup = BeautifulSoup(html, 'lxml')\n",
    "type(soup)"
   ]
  },
  {
   "cell_type": "code",
   "execution_count": 62,
   "metadata": {},
   "outputs": [
    {
     "name": "stdout",
     "output_type": "stream",
     "text": [
      "<class 'bs4.element.ResultSet'>\n",
      "11\n"
     ]
    }
   ],
   "source": [
    "# find results within table\n",
    "table = soup.findAll('div', attrs={'class': 'tut-list tut-row '})\n",
    "print(type(table))\n",
    "print(len(table))"
   ]
  },
  {
   "cell_type": "code",
   "execution_count": 128,
   "metadata": {},
   "outputs": [
    {
     "name": "stdout",
     "output_type": "stream",
     "text": [
      "Topic:  Artificial Intelligence\n",
      "Title:  Natural Language Processing\n",
      "Total Upvotes:  0\n",
      "Labels:  ['Paid', 'Advanced', 'NLP']\n",
      "---------------- 1 ----------------------\n",
      "Topic:  Artificial Intelligence\n",
      "Title:  Intro to Artificial Intelligence - Udacity\n",
      "Total Upvotes:  104\n",
      "Labels:  ['Free', 'Video']\n",
      "---------------- 2 ----------------------\n",
      "Topic:  Artificial Intelligence\n",
      "Title:  MIT Open Courseware - Artificial Intelligence\n",
      "Total Upvotes:  29\n",
      "Labels:  ['Free', 'Video', 'Advanced']\n",
      "---------------- 3 ----------------------\n",
      "Topic:  Artificial Intelligence\n",
      "Title:  Artificial Intelligence A-Z: Learn How To Build An AI\n",
      "Total Upvotes:  23\n",
      "Labels:  ['Paid', 'Video']\n",
      "---------------- 4 ----------------------\n",
      "Topic:  Artificial Intelligence\n",
      "Title:  Intro to AI — UC Berkeley CS188\n",
      "Total Upvotes:  10\n",
      "Labels:  ['Free']\n",
      "---------------- 5 ----------------------\n",
      "Topic:  Artificial Intelligence\n",
      "Title:  Artificial Intelligence: A Modern Approach\n",
      "Total Upvotes:  9\n",
      "Labels:  ['Paid', 'Book']\n",
      "---------------- 6 ----------------------\n",
      "Topic:  Artificial Intelligence\n",
      "Title:  Microsoft Professional Program in Artificial Intelligence\n",
      "Total Upvotes:  6\n",
      "Labels:  ['Paid', 'Video', 'Beginner']\n",
      "---------------- 7 ----------------------\n",
      "Topic:  Artificial Intelligence\n",
      "Title:  Natural Language Processing in Action\n",
      "Total Upvotes:  3\n",
      "Labels:  ['Paid', 'Book', 'NLP - Natural Language Processing']\n",
      "---------------- 8 ----------------------\n",
      "Topic:  Artificial Intelligence\n",
      "Title:  Elements of AI\n",
      "Total Upvotes:  3\n",
      "Labels:  ['Free', 'Book', 'Beginner']\n",
      "---------------- 9 ----------------------\n",
      "Topic:  Artificial Intelligence\n",
      "Title:  Learn the fundamentals of Artificial Intelligence\n",
      "Total Upvotes:  3\n",
      "Labels:  ['Free', 'Video']\n",
      "---------------- 10 ----------------------\n",
      "Topic:  Artificial Intelligence\n",
      "Title:  AI Programming with Python\n",
      "Total Upvotes:  2\n",
      "Labels:  ['Paid', 'Video', 'Advanced', 'Python']\n",
      "---------------- 11 ----------------------\n"
     ]
    }
   ],
   "source": [
    "count = 1\n",
    "for result in table:\n",
    "    \n",
    "    d1 = result.find('a',{'class':'js-details'})\n",
    "    d2 = result.find('span',{'class':'count'})\n",
    "    d3 = result.findAll('span',attrs={'class': 'label label-xs label-primary'})\n",
    "    labels = []\n",
    "    for label in d3:\n",
    "        labels.append(label.get_text())\n",
    "   \n",
    "    print(\"Topic: \",d1.attrs[\"data-topic\"])\n",
    "    print(\"Title: \",d1.attrs[\"data-tutorial\"])\n",
    "    print(\"Total Upvotes: \",d2.get_text())\n",
    "    print(\"Labels: \",labels)\n",
    "    \n",
    "    print(\"----------------\",count,\"----------------------\")\n",
    "    count = count + 1"
   ]
  }
 ],
 "metadata": {
  "kernelspec": {
   "display_name": "Python 3",
   "language": "python",
   "name": "python3"
  },
  "language_info": {
   "codemirror_mode": {
    "name": "ipython",
    "version": 3
   },
   "file_extension": ".py",
   "mimetype": "text/x-python",
   "name": "python",
   "nbconvert_exporter": "python",
   "pygments_lexer": "ipython3",
   "version": "3.6.7"
  }
 },
 "nbformat": 4,
 "nbformat_minor": 2
}
